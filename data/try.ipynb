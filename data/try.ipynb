{
 "cells": [
  {
   "cell_type": "code",
   "execution_count": 12,
   "id": "d9948ce7",
   "metadata": {},
   "outputs": [
    {
     "name": "stdout",
     "output_type": "stream",
     "text": [
      "Label\n",
      "wave         50\n",
      "House        50\n",
      "ThumbsUp     50\n",
      "clap         50\n",
      "Please       50\n",
      "Sorry        50\n",
      "Welcome      50\n",
      "Excuse Me    50\n",
      "ThankYou     50\n",
      "Name: count, dtype: int64\n",
      "Rows with 'Excuse Me' removed.\n"
     ]
    }
   ],
   "source": [
    "import pandas as pd\n",
    "\n",
    "# Load your dataset (replace 'your_file.csv' with your actual filename)\n",
    "df = pd.read_csv('C:/Users/Samyak/OneDrive/Desktop/Hand_Gesture_Recognition_Sysytem/HAND-GESTURE-RECOGNITION-SYSTEM/data/hand_gesture_sequences.csv')\n",
    "\n",
    "# Drop rows where any column has the exact value \"Excuse Me\"\n",
    "print(df['Label'].value_counts())\n",
    "\n",
    "print(\"Rows with 'Excuse Me' removed.\")\n"
   ]
  },
  {
   "cell_type": "code",
   "execution_count": 10,
   "id": "d16e48b1",
   "metadata": {},
   "outputs": [
    {
     "data": {
      "text/plain": [
       "array(['wave', 'House', 'ThumbsUp', 'clap', 'Please', 'Sorry', 'Welcome'],\n",
       "      dtype=object)"
      ]
     },
     "execution_count": 10,
     "metadata": {},
     "output_type": "execute_result"
    }
   ],
   "source": [
    "df['Label'].unique()"
   ]
  },
  {
   "cell_type": "code",
   "execution_count": null,
   "id": "5dc8b20c",
   "metadata": {},
   "outputs": [],
   "source": []
  }
 ],
 "metadata": {
  "kernelspec": {
   "display_name": "tf",
   "language": "python",
   "name": "python3"
  },
  "language_info": {
   "codemirror_mode": {
    "name": "ipython",
    "version": 3
   },
   "file_extension": ".py",
   "mimetype": "text/x-python",
   "name": "python",
   "nbconvert_exporter": "python",
   "pygments_lexer": "ipython3",
   "version": "3.10.16"
  }
 },
 "nbformat": 4,
 "nbformat_minor": 5
}
